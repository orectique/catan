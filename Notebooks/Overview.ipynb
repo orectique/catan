{
 "cells": [
  {
   "cell_type": "code",
   "execution_count": null,
   "id": "ef40e33f-8937-4918-b626-d70a2615e7aa",
   "metadata": {},
   "outputs": [
    {
     "ename": "",
     "evalue": "",
     "output_type": "error",
     "traceback": [
      "\u001b[1;31mThe kernel failed to start as 'TypeAliasType' could not be imported from '/home/orectique/miniforge3/envs/catan/lib/python3.10/site-packages/typing_extensions.py'.\n",
      "\u001b[1;31mClick <a href='https://aka.ms/kernelFailuresModuleImportErrFromFile'>here</a> for more info."
     ]
    }
   ],
   "source": [
    "import random\n",
    "\n",
    "from catanatron.game import Game\n",
    "from catanatron.models.player import Player, RandomPlayer, Color\n",
    "from catanatron.players.weighted_random import WeightedRandomPlayer\n",
    "\n",
    "from catanatron_experimental.machine_learning.players.minimax import AlphaBetaPlayer\n",
    "\n",
    "class nonAlturisticPlayer(AlphaBetaPlayer): # Assuming the AlphaBetaPlayer is \"alturistic\" by default\n",
    "    \n",
    "    def __init__(self, color, is_bot=True, altruism = 0.8):\n",
    "        \"\"\"Initialize the player\n",
    "\n",
    "        Args:\n",
    "            color(Color): the color of the player\n",
    "            is_bot(bool): whether the player is controlled by the computer\n",
    "        \"\"\"\n",
    "        super().__init__(color, is_bot)\n",
    "        self.altruism = altruism\n",
    "\n",
    "# Play a simple 4v4 game. Edit MyPlayer with your logic!\n",
    "\n",
    "#game = Game(players)\n",
    "#print(game.play())  # returns winning color"
   ]
  },
  {
   "cell_type": "code",
   "execution_count": 13,
   "id": "1a6c3926",
   "metadata": {},
   "outputs": [],
   "source": [
    "from catanatron.json import GameEncoder\n",
    "from catanatron_gym.features import create_sample_vector, create_sample"
   ]
  },
  {
   "cell_type": "code",
   "execution_count": null,
   "id": "f54258cb",
   "metadata": {},
   "outputs": [],
   "source": [
    "from catanatron.json import GameEncoder\n",
    "from catanatron_gym.features import create_sample_vector, create_sample"
   ]
  },
  {
   "cell_type": "code",
   "execution_count": 4,
   "id": "280e771c",
   "metadata": {},
   "outputs": [],
   "source": [
    "from tqdm import tqdm\n",
    "import numpy as np"
   ]
  },
  {
   "cell_type": "code",
   "execution_count": 3,
   "id": "5f5763b6",
   "metadata": {},
   "outputs": [],
   "source": [
    "from tinydb import TinyDB\n",
    "from tinydb.storages import JSONStorage\n",
    "from tinydb.middlewares import CachingMiddleware\n",
    "db = TinyDB('../Data/catanSim1.json', storage=CachingMiddleware(JSONStorage))"
   ]
  },
  {
   "cell_type": "code",
   "execution_count": null,
   "id": "62a06237",
   "metadata": {},
   "outputs": [],
   "source": [
    "for i in tqdm(range(4000)):\n",
    "\n",
    "    dictIter = {}\n",
    "\n",
    "    r_t = np.random.beta()\n",
    "    b_t = np.random.beta()\n",
    "    o_t = np.random.beta()\n",
    "    w_t = np.random.beta()\n",
    "\n",
    "    dictIter['r_t'] = r_t\n",
    "    dictIter['b_t'] = b_t\n",
    "    dictIter['o_t'] = o_t\n",
    "    dictIter['w_t'] = w_t\n",
    "    \n",
    "    players = [\n",
    "        nonAlturisticPlayer(Color.RED, altruism=r_t),\n",
    "        nonAlturisticPlayer(Color.BLUE, altruism=b_t),\n",
    "        nonAlturisticPlayer(Color.ORANGE, altruism=o_t),\n",
    "        nonAlturisticPlayer(Color.WHITE, altruism=w_t)\n",
    "    ]\n",
    "\n",
    "    game = Game(players)\n",
    "    game.play()\n",
    "\n",
    "    record = create_sample(game)\n",
    "\n",
    "    dictIter = dictIter | record\n",
    "\n",
    "    db.insert(dictIter)\n",
    "\n",
    "db.close()    "
   ]
  },
  {
   "cell_type": "code",
   "execution_count": 5,
   "id": "4f0183d4",
   "metadata": {},
   "outputs": [],
   "source": [
    "import tensorflow as tf"
   ]
  },
  {
   "cell_type": "code",
   "execution_count": null,
   "id": "41fb8373",
   "metadata": {},
   "outputs": [
    {
     "ename": "",
     "evalue": "",
     "output_type": "error",
     "traceback": [
      "\u001b[1;31mThe kernel failed to start as 'TypeAliasType' could not be imported from '/home/orectique/miniforge3/envs/catan/lib/python3.10/site-packages/typing_extensions.py'.\n",
      "\u001b[1;31mClick <a href='https://aka.ms/kernelFailuresModuleImportErrFromFile'>here</a> for more info."
     ]
    }
   ],
   "source": [
    "import tensorflow as tf"
   ]
  },
  {
   "cell_type": "code",
   "execution_count": 3,
   "id": "41969183",
   "metadata": {},
   "outputs": [
    {
     "name": "stderr",
     "output_type": "stream",
     "text": [
      "2024-04-04 01:38:01.020134: I external/local_xla/xla/stream_executor/cuda/cuda_executor.cc:984] could not open file to read NUMA node: /sys/bus/pci/devices/0000:01:00.0/numa_node\n",
      "Your kernel may have been built without NUMA support.\n",
      "2024-04-04 01:38:01.020183: W tensorflow/core/common_runtime/gpu/gpu_device.cc:2251] Cannot dlopen some GPU libraries. Please make sure the missing libraries mentioned above are installed properly if you would like to use GPU. Follow the guide at https://www.tensorflow.org/install/gpu for how to download and setup the required libraries for your platform.\n",
      "Skipping registering GPU devices...\n"
     ]
    },
    {
     "data": {
      "text/plain": [
       "[PhysicalDevice(name='/physical_device:CPU:0', device_type='CPU')]"
      ]
     },
     "execution_count": 3,
     "metadata": {},
     "output_type": "execute_result"
    }
   ],
   "source": [
    "tf.config.list_physical_devices()"
   ]
  },
  {
   "cell_type": "code",
   "execution_count": null,
   "id": "35437aae",
   "metadata": {},
   "outputs": [],
   "source": []
  }
 ],
 "metadata": {
  "kernelspec": {
   "display_name": "Python 3 (ipykernel)",
   "language": "python",
   "name": "python3"
  },
  "language_info": {
   "codemirror_mode": {
    "name": "ipython",
    "version": 3
   },
   "file_extension": ".py",
   "mimetype": "text/x-python",
   "name": "python",
   "nbconvert_exporter": "python",
   "pygments_lexer": "ipython3",
   "version": "3.10.14"
  }
 },
 "nbformat": 4,
 "nbformat_minor": 5
}
